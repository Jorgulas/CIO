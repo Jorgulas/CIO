{
  "nbformat": 4,
  "nbformat_minor": 0,
  "metadata": {
    "colab": {
      "provenance": [],
      "authorship_tag": "ABX9TyNtCXQPLlRFYqD9eyGzYUOw",
      "include_colab_link": true
    },
    "kernelspec": {
      "name": "python3",
      "display_name": "Python 3"
    },
    "language_info": {
      "name": "python"
    }
  },
  "cells": [
    {
      "cell_type": "markdown",
      "metadata": {
        "id": "view-in-github",
        "colab_type": "text"
      },
      "source": [
        "<a href=\"https://colab.research.google.com/github/Jorgulas/CIO/blob/main/ex_3_crit_3_altern.ipynb\" target=\"_parent\"><img src=\"https://colab.research.google.com/assets/colab-badge.svg\" alt=\"Open In Colab\"/></a>"
      ]
    },
    {
      "cell_type": "markdown",
      "source": [
        "# Among Us\n",
        "## Sus\n",
        "### Sus (smaller)"
      ],
      "metadata": {
        "id": "Gnz5ZpXLc3Cb"
      }
    },
    {
      "cell_type": "code",
      "execution_count": 47,
      "metadata": {
        "colab": {
          "base_uri": "https://localhost:8080/"
        },
        "id": "iCdQ6eUucuoq",
        "outputId": "1f4aa156-62c2-489b-dce8-95a025b83723"
      },
      "outputs": [
        {
          "output_type": "stream",
          "name": "stdout",
          "text": [
            "matriz criterios norm:  [[0.30769231 0.30434783 0.33333333]\n",
            " [0.61538462 0.60869565 0.58333333]\n",
            " [0.07692308 0.08695652 0.08333333]]\n",
            "pesos criterios:  [0.31512449 0.6024712  0.08240431]\n",
            "ci criterios:  0.0009910148806386854\n",
            "cr criterios:  0.001708646345928768\n",
            "matriz normalizada:  [[0.23076923 0.2173913  0.33333333]\n",
            " [0.69230769 0.65217391 0.55555556]\n",
            " [0.07692308 0.13043478 0.11111111]]\n",
            "matriz normalizada:  [[0.12195122 0.35714286 0.11267606]\n",
            " [0.02439024 0.07142857 0.09859155]\n",
            " [0.85365854 0.57142857 0.78873239]]\n",
            "Uma das matrizes alternativas (Critério 2) é não consistente. CR = 0.22\n",
            "matriz normalizada:  [[0.22222222 0.28571429 0.21052632]\n",
            " [0.11111111 0.14285714 0.15789474]\n",
            " [0.66666667 0.57142857 0.63157895]]\n",
            "[0.31512449 0.6024712  0.08240431]\n",
            "0.001708646345928768\n",
            "[[0.26049796 0.19725671 0.23948761]\n",
            " [0.63334572 0.06480345 0.13728766]\n",
            " [0.10615632 0.73793983 0.62322473]]\n",
            "[0.03337472496505753, 0.22498167484776346, 0.015807980379471724]\n",
            "[0.22066558 0.24993806 0.52939636]\n",
            "Decisão: 0.5293963589700886\n"
          ]
        }
      ],
      "source": [
        "import numpy as np\n",
        "import IPython.display as display\n",
        "from matplotlib import pyplot as plt\n",
        "import io\n",
        "import base64\n",
        "\n",
        "## Exercicio com 3 critérios e 3 alternativas\n",
        "\n",
        "# Matriz de comparação dos Critérios\n",
        "matrix = np.array([[1, 1/2, 4], [2, 1, 7], [1/4, 1/7, 1]])\n",
        "\n",
        "# Matrizes de comparação de Alternativas\n",
        "m_c1 = np.array([[1, 1/3, 3], [3, 1, 5], [1/3, 1/5, 1]])\n",
        "\n",
        "m_c2 = np.array([[1, 5, 1/7], [1/5, 1, 1/8], [7, 8, 1]])\n",
        "\n",
        "m_c3 = np.array([[1, 2, 1/3], [1/2, 1, 1/4], [3, 4, 1]])\n",
        "\n",
        "\n",
        "# Definir função de normalizacao\n",
        "def normalizar_matriz(matriz):\n",
        "  soma_colunas = np.sum(matriz, axis=0)\n",
        "  matriz_normalizada = matriz/soma_colunas\n",
        "  return matriz_normalizada\n",
        "\n",
        "# calcular VP (vetor das prioridades) (Pesos)\n",
        "def calcular_vp(matriz):\n",
        "  return np.mean(matriz, axis=1) # = pesos\n",
        "\n",
        "# verificar se a matriz é consistente\n",
        "def calcular_consistencia(matriz, pesos):\n",
        "  lambda_max = np.mean(np.sum(matriz * pesos, axis=1) / pesos)\n",
        "  n = matriz.shape[0]\n",
        "  ci = (lambda_max - n) / (n-1)\n",
        "  return ci\n",
        "\n",
        "def calcular_cr(ci, n):\n",
        "  ri_dict = {1: 0.00, 2: 0.00, 3: 0.58, 4: 0.90, 5: 1.12, 6: 1.24, 7: 1.32, 8: 1.41, 9: 1.45, 10: 1.49}\n",
        "  ri = ri_dict.get(n , 1.49) # Se n > 10, usar 1.49 como valor padrão de RI\n",
        "  cr = ci/ri\n",
        "  return cr\n",
        "\n",
        "matrizes_alternativas = [m_c1, m_c2, m_c3]\n",
        "\n",
        "def ahp(m_criterios, m_altern):\n",
        "  m_crit_norm = normalizar_matriz(m_criterios)\n",
        "  print(\"matriz criterios norm: \", m_crit_norm)\n",
        "  pesos_crit = calcular_vp(m_crit_norm)\n",
        "  print(\"pesos criterios: \", pesos_crit)\n",
        "  ci_crit = calcular_consistencia(m_criterios, pesos_crit)\n",
        "  print(\"ci criterios: \", ci_crit)\n",
        "  cr_crit = calcular_cr(ci_crit, m_criterios.shape[0])\n",
        "  print(\"cr criterios: \", cr_crit)\n",
        "  if cr_crit > 0.1:\n",
        "    print(f\"A matriz de critérios não é consistente. CR = {cr_crit: .2f}\")\n",
        "\n",
        "  # Calcular pesos das alternativas\n",
        "  pesos_altern = []\n",
        "  cr_altern = []\n",
        "  for i, matriz in enumerate(matrizes_alternativas):\n",
        "    m_normalizada = normalizar_matriz(matriz)\n",
        "    print('matriz normalizada: ', m_normalizada)\n",
        "    pesos = calcular_vp(m_normalizada)\n",
        "    ci = calcular_consistencia(matriz,pesos)\n",
        "    cr = calcular_cr(ci, matriz.shape[0])\n",
        "\n",
        "    if cr > 0.1:\n",
        "      print(f\"Uma das matrizes alternativas (Critério {i+1}) é não consistente. CR = {cr:.2f}\")\n",
        "\n",
        "    pesos_altern.append(pesos)\n",
        "    cr_altern.append(cr)\n",
        "\n",
        "  pesos_altern = np.array(pesos_altern).T\n",
        "  pontuacao_final = np.dot(pesos_altern, pesos_crit)\n",
        "  return [pesos_crit, cr_crit, pesos_altern, cr_altern, pontuacao_final]\n",
        "\n",
        "pesos_crit, cr_crit, pesos_altern, cr_altern, pont_final = ahp(matrix, matrizes_alternativas) # matrix -> matriz criterios\n",
        "\n",
        "print(pesos_crit)\n",
        "print(cr_crit)\n",
        "print(pesos_altern)\n",
        "print(cr_altern)\n",
        "print(pont_final)\n",
        "\n",
        "pont_final.sort()\n",
        "print(\"Decisão:\",pont_final[len(pont_final)-1])\n"
      ]
    }
  ]
}